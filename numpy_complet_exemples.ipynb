{
 "cells": [
  {
   "cell_type": "code",
   "execution_count": null,
   "id": "4a084b9c-e162-44ae-b309-5fd70e82c34d",
   "metadata": {},
   "outputs": [],
   "source": [
    "Introduction \n",
    "NumPy est une librairie utilisée dans presque tous les projets de calcul numérique sous Python.\n",
    "\n",
    "NumPy fournit des structures de données performantes pour la manipulation de vecteurs, de matrices, de tenseurs. \n",
    "On parlera de tableau ou array en Anglais (en fait techniquement, ndarray, pour n-dimension array).\n",
    "\n",
    "NumPy est écrit en C et en Fortran d'où ses performances élevées lorsque les calculs sont vectorisés \n",
    "(formulés comme des opérations sur des tableaux)\n",
    "\n",
    "Pour utiliser NumPy il faut commencer par l'importer :"
   ]
  },
  {
   "cell_type": "markdown",
   "id": "3b772621-5c53-43a6-b90b-29c8046abdb9",
   "metadata": {},
   "source": [
    "#Installation\n",
    "!pip install numpy"
   ]
  },
  {
   "cell_type": "code",
   "execution_count": 2,
   "id": "e5d7dd2f-5f19-411a-a2c2-24c705270e5d",
   "metadata": {},
   "outputs": [],
   "source": [
    "#import\n",
    "import numpy as np"
   ]
  },
  {
   "cell_type": "code",
   "execution_count": 3,
   "id": "afbbbbdc-c515-444b-8965-c6f0517c3bb3",
   "metadata": {},
   "outputs": [
    {
     "name": "stdout",
     "output_type": "stream",
     "text": [
      "1.26.4\n"
     ]
    }
   ],
   "source": [
    "print(np.__version__)"
   ]
  },
  {
   "cell_type": "raw",
   "id": "1bac7da0-7bf0-4d80-a224-9c721233c842",
   "metadata": {},
   "source": [
    "Création de tableaux numpy \n",
    "Plusieurs possibilités:\n",
    "\n",
    "à partir de listes Python\n",
    "en utilisant des fonctions spéciales telles que arange et linspace, etc.\n",
    "par chargement à partir de fichiers\n",
    "à partir d'une matrice"
   ]
  },
  {
   "cell_type": "code",
   "execution_count": 4,
   "id": "7b580c35-cfed-466a-b5af-e34f489d35f3",
   "metadata": {},
   "outputs": [
    {
     "data": {
      "text/plain": [
       "[1, 2, 3]"
      ]
     },
     "execution_count": 4,
     "metadata": {},
     "output_type": "execute_result"
    }
   ],
   "source": [
    "my_liste = [1, 2, 3]\n",
    "my_liste"
   ]
  },
  {
   "cell_type": "code",
   "execution_count": 5,
   "id": "0a568e0e-9b72-4d62-8ce7-eccf928f9adf",
   "metadata": {},
   "outputs": [
    {
     "data": {
      "text/plain": [
       "array([1, 2, 3])"
      ]
     },
     "execution_count": 5,
     "metadata": {},
     "output_type": "execute_result"
    }
   ],
   "source": [
    "tab = np.array(my_liste)\n",
    "tab"
   ]
  },
  {
   "cell_type": "code",
   "execution_count": 8,
   "id": "4fe3659e-fc56-41c0-8f9d-7da3b108f0bd",
   "metadata": {},
   "outputs": [
    {
     "data": {
      "text/plain": [
       "numpy.ndarray"
      ]
     },
     "execution_count": 8,
     "metadata": {},
     "output_type": "execute_result"
    }
   ],
   "source": [
    "type(tab)"
   ]
  },
  {
   "cell_type": "code",
   "execution_count": 9,
   "id": "223e9b84-e7d3-4c37-97f0-4afbb39d90c1",
   "metadata": {},
   "outputs": [
    {
     "data": {
      "text/plain": [
       "array(['1', '2', 'Amine'], dtype='<U11')"
      ]
     },
     "execution_count": 9,
     "metadata": {},
     "output_type": "execute_result"
    }
   ],
   "source": [
    "liste1 = [1, 2, \"Amine\"]\n",
    "tab1 = np.array(liste1)\n",
    "tab1"
   ]
  },
  {
   "cell_type": "code",
   "execution_count": 10,
   "id": "2f37dd63-2d96-4c52-b6ed-e24b026a7e4d",
   "metadata": {},
   "outputs": [
    {
     "data": {
      "text/plain": [
       "array([ 1.  ,  2.  ,  3.6 ,  5.89, 10.  ])"
      ]
     },
     "execution_count": 10,
     "metadata": {},
     "output_type": "execute_result"
    }
   ],
   "source": [
    "liste2 = [1, 2, 3.6, 5.89, 10]\n",
    "tab2 = np.array(liste2)\n",
    "tab2"
   ]
  },
  {
   "cell_type": "code",
   "execution_count": 3,
   "id": "36b49ada-a0a4-49a4-8866-519a35bb6c89",
   "metadata": {},
   "outputs": [
    {
     "name": "stdout",
     "output_type": "stream",
     "text": [
      "[1 2 3 4 5]\n"
     ]
    }
   ],
   "source": [
    "# Création à partir d'un liste\n",
    "liste = [1, 2, 3, 4, 5]  # Définition de la liste d'élément\n",
    "array_with_liste = np.array(liste)\n",
    "print(array_with_liste)  # affiche le numpy array"
   ]
  },
  {
   "cell_type": "code",
   "execution_count": 4,
   "id": "2d8eb11d-b0a2-47a1-9baf-e5e77a19296b",
   "metadata": {},
   "outputs": [
    {
     "name": "stdout",
     "output_type": "stream",
     "text": [
      "[[1 2 3]\n",
      " [4 5 6]\n",
      " [7 8 9]]\n"
     ]
    }
   ],
   "source": [
    "# Création d'un numpy array à partir d'une liste de listes (matrice)\n",
    "matrice = [[1, 2, 3], [4, 5, 6], [7, 8, 9]]\n",
    "array_with_matrice = np.array(matrice)\n",
    "print(array_with_matrice)"
   ]
  },
  {
   "cell_type": "code",
   "execution_count": 6,
   "id": "8745204f-a230-4508-a072-152006acccf1",
   "metadata": {},
   "outputs": [
    {
     "data": {
      "text/plain": [
       "array([81, 57, 66])"
      ]
     },
     "execution_count": 6,
     "metadata": {},
     "output_type": "execute_result"
    }
   ],
   "source": [
    "## Création à partir d'un tuple\n",
    "tuplet = (81,57,66)\n",
    "np.array(tuplet)"
   ]
  },
  {
   "cell_type": "code",
   "execution_count": 13,
   "id": "0c6509e9-db9f-4b99-b22e-fcc7246fb6f0",
   "metadata": {},
   "outputs": [
    {
     "name": "stdout",
     "output_type": "stream",
     "text": [
      "[{'name': 'Faouzi', 'last': 'Toujani'}]\n",
      "object\n"
     ]
    }
   ],
   "source": [
    "## Création à partir d'un dict 1 d\n",
    "dict = np.array([{\"name\" : \"Faouzi\", \"last\" : \"Toujani\"}])\n",
    "print(dict)\n",
    "print(dict.dtype)"
   ]
  },
  {
   "cell_type": "code",
   "execution_count": 14,
   "id": "749cb57b-7aec-4bcb-8505-0e07bac04fe7",
   "metadata": {},
   "outputs": [
    {
     "name": "stdout",
     "output_type": "stream",
     "text": [
      "[{'name': {'Fouade', 'Faouzi', 'Huimel'}}\n",
      " {'last': {'Matmati', 'Nevzi', 'Toujani'}}]\n",
      "object\n"
     ]
    }
   ],
   "source": [
    "## Création à partir d'un dict 2 d\n",
    "dict2 = np.array([{\"name\" : {\"Faouzi\", \"Fouade\", \"Huimel\"}} , {\"last\": {\"Toujani\", \"Matmati\", \"Nevzi\"}} ])\n",
    "print(dict2)\n",
    "print(dict2.dtype)"
   ]
  },
  {
   "cell_type": "code",
   "execution_count": 16,
   "id": "f1d78817-856f-4269-95cb-7386dab4ccc2",
   "metadata": {},
   "outputs": [
    {
     "data": {
      "text/plain": [
       "array([0, 1, 2, 3, 4, 5, 6, 7, 8, 9])"
      ]
     },
     "execution_count": 16,
     "metadata": {},
     "output_type": "execute_result"
    }
   ],
   "source": [
    "np.arange(10)"
   ]
  },
  {
   "cell_type": "code",
   "execution_count": 17,
   "id": "cfe652c1-7d8c-425b-b160-15f1f9925dc1",
   "metadata": {},
   "outputs": [
    {
     "data": {
      "text/plain": [
       "array([ 0,  1,  2,  3,  4,  5,  6,  7,  8,  9, 10, 11, 12, 13, 14, 15, 16,\n",
       "       17, 18, 19, 20, 21, 22, 23, 24, 25, 26, 27, 28, 29, 30, 31, 32, 33,\n",
       "       34, 35, 36, 37, 38, 39, 40, 41, 42, 43, 44, 45, 46, 47, 48, 49, 50,\n",
       "       51, 52, 53, 54, 55, 56, 57, 58, 59, 60, 61, 62, 63, 64, 65, 66, 67,\n",
       "       68, 69, 70, 71, 72, 73, 74, 75, 76, 77, 78, 79, 80, 81, 82, 83, 84,\n",
       "       85, 86, 87, 88, 89, 90, 91, 92, 93, 94, 95, 96, 97, 98, 99])"
      ]
     },
     "execution_count": 17,
     "metadata": {},
     "output_type": "execute_result"
    }
   ],
   "source": [
    "np.arange(100)"
   ]
  },
  {
   "cell_type": "code",
   "execution_count": 18,
   "id": "2373441d-29ce-465c-a6ee-dc64b313d478",
   "metadata": {},
   "outputs": [
    {
     "data": {
      "text/plain": [
       "array([ 5,  7,  9, 11, 13, 15, 17, 19])"
      ]
     },
     "execution_count": 18,
     "metadata": {},
     "output_type": "execute_result"
    }
   ],
   "source": [
    "np.arange(5, 20, 2)"
   ]
  },
  {
   "cell_type": "code",
   "execution_count": 19,
   "id": "6367ad1a-edb5-4ae7-9320-f1a1ff0c2a48",
   "metadata": {},
   "outputs": [
    {
     "data": {
      "text/plain": [
       "array([0., 1., 2., 3., 4.])"
      ]
     },
     "execution_count": 19,
     "metadata": {},
     "output_type": "execute_result"
    }
   ],
   "source": [
    "np.arange(5.0)"
   ]
  },
  {
   "cell_type": "code",
   "execution_count": 21,
   "id": "5491c76c-ea9e-49e3-833a-931b7bd30fcc",
   "metadata": {},
   "outputs": [
    {
     "data": {
      "text/plain": [
       "array([ 0,  1,  2,  3,  4,  5,  6,  7,  8,  9, 10, 11])"
      ]
     },
     "execution_count": 21,
     "metadata": {},
     "output_type": "execute_result"
    }
   ],
   "source": [
    "a = np.arange(12)\n",
    "a"
   ]
  },
  {
   "cell_type": "code",
   "execution_count": 22,
   "id": "ea7272c3-816c-46ed-858d-265975d0b01e",
   "metadata": {},
   "outputs": [
    {
     "data": {
      "text/plain": [
       "(12,)"
      ]
     },
     "execution_count": 22,
     "metadata": {},
     "output_type": "execute_result"
    }
   ],
   "source": [
    "a.shape"
   ]
  },
  {
   "cell_type": "code",
   "execution_count": 26,
   "id": "9cd90169-919d-433d-aad3-34fea2fa9d6c",
   "metadata": {},
   "outputs": [
    {
     "data": {
      "text/plain": [
       "array([[ 0,  1,  2,  3],\n",
       "       [ 4,  5,  6,  7],\n",
       "       [ 8,  9, 10, 11]])"
      ]
     },
     "execution_count": 26,
     "metadata": {},
     "output_type": "execute_result"
    }
   ],
   "source": [
    "b = a.reshape((3, 4))\n",
    "b"
   ]
  },
  {
   "cell_type": "code",
   "execution_count": 27,
   "id": "e9e1223b-ae9e-468d-95b3-9c6f0936495f",
   "metadata": {},
   "outputs": [
    {
     "data": {
      "text/plain": [
       "array([[ 0,  1,  2],\n",
       "       [ 3,  4,  5],\n",
       "       [ 6,  7,  8],\n",
       "       [ 9, 10, 11]])"
      ]
     },
     "execution_count": 27,
     "metadata": {},
     "output_type": "execute_result"
    }
   ],
   "source": [
    "c = a.reshape((4, 3))\n",
    "c"
   ]
  },
  {
   "cell_type": "code",
   "execution_count": 28,
   "id": "dba83e6f-9dcf-4b6c-ac6e-eb0cd0d671cd",
   "metadata": {},
   "outputs": [
    {
     "ename": "ValueError",
     "evalue": "cannot reshape array of size 12 into shape (2,5)",
     "output_type": "error",
     "traceback": [
      "\u001b[1;31m---------------------------------------------------------------------------\u001b[0m",
      "\u001b[1;31mValueError\u001b[0m                                Traceback (most recent call last)",
      "Cell \u001b[1;32mIn[28], line 1\u001b[0m\n\u001b[1;32m----> 1\u001b[0m d \u001b[38;5;241m=\u001b[39m a\u001b[38;5;241m.\u001b[39mreshape((\u001b[38;5;241m2\u001b[39m, \u001b[38;5;241m5\u001b[39m))\n\u001b[0;32m      2\u001b[0m d\n",
      "\u001b[1;31mValueError\u001b[0m: cannot reshape array of size 12 into shape (2,5)"
     ]
    }
   ],
   "source": [
    "d = a.reshape((2, 5))\n",
    "d"
   ]
  },
  {
   "cell_type": "code",
   "execution_count": 29,
   "id": "7da44e12-5fbc-4d0c-a5e6-b31707827a7e",
   "metadata": {},
   "outputs": [
    {
     "data": {
      "text/plain": [
       "array([ 0,  1,  2,  3,  4,  5,  6,  7,  8,  9, 10, 11, 12, 13, 14])"
      ]
     },
     "execution_count": 29,
     "metadata": {},
     "output_type": "execute_result"
    }
   ],
   "source": [
    "tab = np.arange(15)\n",
    "tab"
   ]
  },
  {
   "cell_type": "code",
   "execution_count": 31,
   "id": "bdfb2fe2-fb60-4ce7-a38d-8c0d26bb9762",
   "metadata": {},
   "outputs": [
    {
     "data": {
      "text/plain": [
       "array([[ 0,  1,  2,  3,  4],\n",
       "       [ 5,  6,  7,  8,  9],\n",
       "       [10, 11, 12, 13, 14]])"
      ]
     },
     "execution_count": 31,
     "metadata": {},
     "output_type": "execute_result"
    }
   ],
   "source": [
    "tab.resize((3, 5))\n",
    "tab"
   ]
  },
  {
   "cell_type": "code",
   "execution_count": 32,
   "id": "df781e7d-657c-45d2-9759-66c10e9df772",
   "metadata": {},
   "outputs": [
    {
     "data": {
      "text/plain": [
       "array([ 0,  1,  2,  3,  4,  5,  6,  7,  8,  9, 10, 11])"
      ]
     },
     "execution_count": 32,
     "metadata": {},
     "output_type": "execute_result"
    }
   ],
   "source": [
    "tab2 = np.arange(12)\n",
    "tab2"
   ]
  },
  {
   "cell_type": "code",
   "execution_count": 33,
   "id": "02dda434-1db2-473b-9bab-f1f79ea1239a",
   "metadata": {},
   "outputs": [
    {
     "ename": "ValueError",
     "evalue": "cannot resize an array that references or is referenced\nby another array in this way.\nUse the np.resize function or refcheck=False",
     "output_type": "error",
     "traceback": [
      "\u001b[1;31m---------------------------------------------------------------------------\u001b[0m",
      "\u001b[1;31mValueError\u001b[0m                                Traceback (most recent call last)",
      "Cell \u001b[1;32mIn[33], line 1\u001b[0m\n\u001b[1;32m----> 1\u001b[0m tab2\u001b[38;5;241m.\u001b[39mresize((\u001b[38;5;241m2\u001b[39m, \u001b[38;5;241m5\u001b[39m))\n\u001b[0;32m      2\u001b[0m tab2\n",
      "\u001b[1;31mValueError\u001b[0m: cannot resize an array that references or is referenced\nby another array in this way.\nUse the np.resize function or refcheck=False"
     ]
    }
   ],
   "source": [
    "tab2.resize((2, 5))\n",
    "tab2"
   ]
  },
  {
   "cell_type": "code",
   "execution_count": 34,
   "id": "bbaed5b3-5a81-4ee2-ac47-13148b59c62f",
   "metadata": {},
   "outputs": [
    {
     "data": {
      "text/plain": [
       "array([[0, 1, 2, 3, 4],\n",
       "       [5, 6, 7, 8, 9]])"
      ]
     },
     "execution_count": 34,
     "metadata": {},
     "output_type": "execute_result"
    }
   ],
   "source": [
    "tab2.resize((2, 5), refcheck=False)\n",
    "tab2"
   ]
  },
  {
   "cell_type": "code",
   "execution_count": 35,
   "id": "dea79f64-de70-4499-8af9-5d79af89e222",
   "metadata": {},
   "outputs": [
    {
     "data": {
      "text/plain": [
       "array([0, 1, 2, 3, 4, 5, 6, 7, 8])"
      ]
     },
     "execution_count": 35,
     "metadata": {},
     "output_type": "execute_result"
    }
   ],
   "source": [
    "tab3 = np.arange(9)\n",
    "tab3"
   ]
  },
  {
   "cell_type": "code",
   "execution_count": 38,
   "id": "986dea12-e0e7-4f28-85cb-ea9f516fe4a5",
   "metadata": {},
   "outputs": [
    {
     "data": {
      "text/plain": [
       "array([[0, 1, 2, 3, 4, 5],\n",
       "       [6, 7, 8, 0, 0, 0],\n",
       "       [0, 0, 0, 0, 0, 0],\n",
       "       [0, 0, 0, 0, 0, 0],\n",
       "       [0, 0, 0, 0, 0, 0]])"
      ]
     },
     "execution_count": 38,
     "metadata": {},
     "output_type": "execute_result"
    }
   ],
   "source": [
    "tab3.resize((5, 6), refcheck=False)\n",
    "tab3"
   ]
  },
  {
   "cell_type": "code",
   "execution_count": 39,
   "id": "bd5a4860-5d0d-4152-bdb0-b55c06f1a654",
   "metadata": {},
   "outputs": [
    {
     "data": {
      "text/plain": [
       "array([0, 1, 2, 3, 4, 5, 6, 7, 8])"
      ]
     },
     "execution_count": 39,
     "metadata": {},
     "output_type": "execute_result"
    }
   ],
   "source": [
    "tab4 = np.arange(9)\n",
    "tab4"
   ]
  },
  {
   "cell_type": "code",
   "execution_count": 40,
   "id": "8dd48aea-ecc0-4e81-b916-733b0e2c6ac3",
   "metadata": {},
   "outputs": [
    {
     "data": {
      "text/plain": [
       "array([[0, 1, 2, 3, 4, 5],\n",
       "       [6, 7, 8, 0, 1, 2],\n",
       "       [3, 4, 5, 6, 7, 8],\n",
       "       [0, 1, 2, 3, 4, 5],\n",
       "       [6, 7, 8, 0, 1, 2]])"
      ]
     },
     "execution_count": 40,
     "metadata": {},
     "output_type": "execute_result"
    }
   ],
   "source": [
    "m = np.resize(tab4, (5, 6))\n",
    "m"
   ]
  },
  {
   "cell_type": "code",
   "execution_count": 5,
   "id": "9755795f-826b-441c-a357-8d9e6614152d",
   "metadata": {},
   "outputs": [
    {
     "name": "stdout",
     "output_type": "stream",
     "text": [
      "[[0. 0. 0.]\n",
      " [0. 0. 0.]\n",
      " [0. 0. 0.]]\n"
     ]
    }
   ],
   "source": [
    "#Créer un numpy array à partir de la fonction zeros\n",
    "array_zeros = np.zeros((3,3))\n",
    "print(array_zeros)"
   ]
  },
  {
   "cell_type": "code",
   "execution_count": 6,
   "id": "07293f23-d68c-4569-83d7-a5d5d96e185c",
   "metadata": {},
   "outputs": [
    {
     "name": "stdout",
     "output_type": "stream",
     "text": [
      "[[1. 1.]\n",
      " [1. 1.]\n",
      " [1. 1.]\n",
      " [1. 1.]]\n"
     ]
    }
   ],
   "source": [
    "#Créer un numpy array à partir de la fonction ones\n",
    "array_ones = np.ones((4,2))\n",
    "print(array_ones)"
   ]
  },
  {
   "cell_type": "code",
   "execution_count": 8,
   "id": "48f1de37-c29f-452a-892b-f71c91f95dd4",
   "metadata": {},
   "outputs": [
    {
     "data": {
      "text/plain": [
       "array([[1., 0., 0., 0., 0.],\n",
       "       [0., 1., 0., 0., 0.],\n",
       "       [0., 0., 1., 0., 0.],\n",
       "       [0., 0., 0., 1., 0.],\n",
       "       [0., 0., 0., 0., 1.]])"
      ]
     },
     "execution_count": 8,
     "metadata": {},
     "output_type": "execute_result"
    }
   ],
   "source": [
    "#Créer un numpay array avec la fonction eye \n",
    "array_eye = np.eye(5)#Pour créer la matrice identité\n",
    "array_eye"
   ]
  },
  {
   "cell_type": "code",
   "execution_count": 41,
   "id": "4cca25a9-899d-4304-856f-feb34012c267",
   "metadata": {},
   "outputs": [
    {
     "data": {
      "text/plain": [
       "array([[8, 8, 8, 8, 8],\n",
       "       [8, 8, 8, 8, 8]])"
      ]
     },
     "execution_count": 41,
     "metadata": {},
     "output_type": "execute_result"
    }
   ],
   "source": [
    "np.full((2, 5), 8, int)"
   ]
  },
  {
   "cell_type": "code",
   "execution_count": 42,
   "id": "7c3b882c-1287-4667-bbb1-e8febd55323c",
   "metadata": {},
   "outputs": [
    {
     "data": {
      "text/plain": [
       "array([[13., 13., 13., 13., 13., 13., 13., 13.],\n",
       "       [13., 13., 13., 13., 13., 13., 13., 13.],\n",
       "       [13., 13., 13., 13., 13., 13., 13., 13.],\n",
       "       [13., 13., 13., 13., 13., 13., 13., 13.],\n",
       "       [13., 13., 13., 13., 13., 13., 13., 13.],\n",
       "       [13., 13., 13., 13., 13., 13., 13., 13.]])"
      ]
     },
     "execution_count": 42,
     "metadata": {},
     "output_type": "execute_result"
    }
   ],
   "source": [
    "np.full((6, 8), 13, float)"
   ]
  },
  {
   "cell_type": "code",
   "execution_count": 48,
   "id": "e21a76b9-0daf-49d8-a8cf-0fd6a9c1e11b",
   "metadata": {},
   "outputs": [
    {
     "data": {
      "text/plain": [
       "array([[ 1,  2,  3,  4],\n",
       "       [ 5,  6,  7,  8],\n",
       "       [ 9, 10, 11, 12],\n",
       "       [13, 14, 15, 16]])"
      ]
     },
     "execution_count": 48,
     "metadata": {},
     "output_type": "execute_result"
    }
   ],
   "source": [
    "matrice_diag = np.arange(1,17).reshape(4, 4)\n",
    "matrice_diag"
   ]
  },
  {
   "cell_type": "code",
   "execution_count": 49,
   "id": "15e20bad-78e3-43ee-b55d-7e408ea993b1",
   "metadata": {},
   "outputs": [
    {
     "data": {
      "text/plain": [
       "array([ 1,  6, 11, 16])"
      ]
     },
     "execution_count": 49,
     "metadata": {},
     "output_type": "execute_result"
    }
   ],
   "source": [
    "np.diag(matrice_diag)"
   ]
  },
  {
   "cell_type": "code",
   "execution_count": 53,
   "id": "ee78378e-4e4a-47d3-8083-d58f35740a23",
   "metadata": {},
   "outputs": [
    {
     "data": {
      "text/plain": [
       "array([ 5, 10, 15])"
      ]
     },
     "execution_count": 53,
     "metadata": {},
     "output_type": "execute_result"
    }
   ],
   "source": [
    "np.diag(matrice_diag, k = -1)"
   ]
  },
  {
   "cell_type": "code",
   "execution_count": 54,
   "id": "3b4c1376-ab11-4942-bed5-f53297beb893",
   "metadata": {},
   "outputs": [
    {
     "data": {
      "text/plain": [
       "array([ 1,  6, 11, 16])"
      ]
     },
     "execution_count": 54,
     "metadata": {},
     "output_type": "execute_result"
    }
   ],
   "source": [
    "np.diag(matrice_diag, k = 0)"
   ]
  },
  {
   "cell_type": "code",
   "execution_count": 56,
   "id": "228b06c4-3b6e-48e9-a0c6-4192d59c2679",
   "metadata": {},
   "outputs": [
    {
     "data": {
      "text/plain": [
       "array([5, 6, 7, 8, 9])"
      ]
     },
     "execution_count": 56,
     "metadata": {},
     "output_type": "execute_result"
    }
   ],
   "source": [
    "a = np.array([5, 6, 7, 8, 9])\n",
    "a"
   ]
  },
  {
   "cell_type": "code",
   "execution_count": 58,
   "id": "0c34d12d-e3c1-4b5e-bddc-1a1125172ae2",
   "metadata": {},
   "outputs": [
    {
     "data": {
      "text/plain": [
       "array([[5, 0, 0, 0, 0],\n",
       "       [0, 6, 0, 0, 0],\n",
       "       [0, 0, 7, 0, 0],\n",
       "       [0, 0, 0, 8, 0],\n",
       "       [0, 0, 0, 0, 9]])"
      ]
     },
     "execution_count": 58,
     "metadata": {},
     "output_type": "execute_result"
    }
   ],
   "source": [
    "matrice_diagonale = np.diag(a)\n",
    "matrice_diagonale"
   ]
  },
  {
   "cell_type": "code",
   "execution_count": 59,
   "id": "97a94490-9b70-416d-b8e2-a7480cb320f0",
   "metadata": {},
   "outputs": [
    {
     "data": {
      "text/plain": [
       "array([[0, 0, 5, 0, 0, 0, 0],\n",
       "       [0, 0, 0, 6, 0, 0, 0],\n",
       "       [0, 0, 0, 0, 7, 0, 0],\n",
       "       [0, 0, 0, 0, 0, 8, 0],\n",
       "       [0, 0, 0, 0, 0, 0, 9],\n",
       "       [0, 0, 0, 0, 0, 0, 0],\n",
       "       [0, 0, 0, 0, 0, 0, 0]])"
      ]
     },
     "execution_count": 59,
     "metadata": {},
     "output_type": "execute_result"
    }
   ],
   "source": [
    "matrice_diagonale = np.diag(a, k = 2)\n",
    "matrice_diagonale"
   ]
  },
  {
   "cell_type": "code",
   "execution_count": 11,
   "id": "d3c6f3ef-f56c-43d9-a337-845c787e45f4",
   "metadata": {},
   "outputs": [
    {
     "data": {
      "text/plain": [
       "array([ 0,  2,  4,  6,  8, 10])"
      ]
     },
     "execution_count": 11,
     "metadata": {},
     "output_type": "execute_result"
    }
   ],
   "source": [
    "#Créer un numpay array avec la fonction arange: pour créer des nombre entre le minimum et le maximum avec un pas\n",
    "array_arange = np.arange(0, 11, 2)\n",
    "array_arange"
   ]
  },
  {
   "cell_type": "code",
   "execution_count": 14,
   "id": "fb49e7f7-d1a5-4ca7-8869-9503d1cd8760",
   "metadata": {},
   "outputs": [
    {
     "data": {
      "text/plain": [
       "array([0.        , 0.33333333, 0.66666667, 1.        ])"
      ]
     },
     "execution_count": 14,
     "metadata": {},
     "output_type": "execute_result"
    }
   ],
   "source": [
    "#Créer un numpay array avec la fonction linspace #générer une séquence de nombre \n",
    "#entre deux valeurs données avec un nombre de points donné\n",
    "array_linspace = np.linspace(0, 1, 4)#Très utile pour les graphiques\n",
    "array_linspace"
   ]
  },
  {
   "cell_type": "code",
   "execution_count": 66,
   "id": "97a7f666-67f1-43d5-a501-9cb2d97b56ba",
   "metadata": {},
   "outputs": [
    {
     "data": {
      "text/plain": [
       "array([[ 0.,  1.,  2.,  3.],\n",
       "       [ 4.,  5.,  6.,  7.],\n",
       "       [ 8.,  9., 10., 11.],\n",
       "       [12., 13., 14., 15.]])"
      ]
     },
     "execution_count": 66,
     "metadata": {},
     "output_type": "execute_result"
    }
   ],
   "source": [
    "np.linspace(0, 15, 16).reshape(4, 4)"
   ]
  },
  {
   "cell_type": "code",
   "execution_count": 62,
   "id": "d4dccbcd-31e4-4115-b81e-3afc758b60fa",
   "metadata": {},
   "outputs": [
    {
     "data": {
      "text/plain": [
       "array([0., 1., 2., 3., 4., 5.])"
      ]
     },
     "execution_count": 62,
     "metadata": {},
     "output_type": "execute_result"
    }
   ],
   "source": [
    "array_linspace2 = np.linspace(0, 5, 6)#Très utile pour les graphiques\n",
    "array_linspace2"
   ]
  },
  {
   "cell_type": "code",
   "execution_count": 72,
   "id": "d7e1b214-f5b4-47c3-be61-54be23963469",
   "metadata": {},
   "outputs": [
    {
     "data": {
      "text/plain": [
       "array([1, 2, 3, 4, 5])"
      ]
     },
     "execution_count": 72,
     "metadata": {},
     "output_type": "execute_result"
    }
   ],
   "source": [
    "np.linspace(\n",
    "    1,\n",
    "    5,\n",
    "    num=5,\n",
    "    endpoint=True,\n",
    "    retstep=False,\n",
    "    dtype=int,\n",
    "    axis=0,\n",
    ")"
   ]
  },
  {
   "cell_type": "code",
   "execution_count": 73,
   "id": "f3ba4a74-683c-4779-ada4-6a9374cf46b0",
   "metadata": {},
   "outputs": [
    {
     "data": {
      "text/plain": [
       "array([ 1,  1,  1,  1,  1,  1,  1,  2,  2,  2,  2,  2,  2,  2,  3,  3,  3,\n",
       "        3,  3,  3,  4,  4,  4,  4,  4,  4,  4,  5,  5,  5,  5,  5,  5,  6,\n",
       "        6,  6,  6,  6,  6,  6,  7,  7,  7,  7,  7,  7,  8,  8,  8,  8,  8,\n",
       "        8,  8,  9,  9,  9,  9,  9,  9, 10])"
      ]
     },
     "execution_count": 73,
     "metadata": {},
     "output_type": "execute_result"
    }
   ],
   "source": [
    "np.linspace(1,10,60 ,dtype = int)"
   ]
  },
  {
   "cell_type": "code",
   "execution_count": 15,
   "id": "e5b73844-6f59-482d-b019-56908dc4c2cd",
   "metadata": {},
   "outputs": [
    {
     "name": "stdout",
     "output_type": "stream",
     "text": [
      "[[0.57030423 0.42034327 0.94170653 0.13982439]\n",
      " [0.87417303 0.51557954 0.16532265 0.72068919]\n",
      " [0.23005095 0.48461608 0.56232559 0.39960492]\n",
      " [0.66311459 0.35021311 0.53964299 0.32275235]\n",
      " [0.23976916 0.51933513 0.91510291 0.45365027]]\n"
     ]
    }
   ],
   "source": [
    "# Créer un numpy array de valeurs aléatoires avec la fonction random\n",
    "array_random = np.random.random((5,4))#Utile pour initialiser les poids dans les réseaux de neurones, générer des données d'apprentissage synthétiques\n",
    "print(array_random)"
   ]
  },
  {
   "cell_type": "code",
   "execution_count": 67,
   "id": "ccbecf76-8d22-44ed-95cb-8fb546b4b01a",
   "metadata": {},
   "outputs": [
    {
     "name": "stdout",
     "output_type": "stream",
     "text": [
      "[[0.84388144 0.04628467 0.18101037 0.63298185 0.59888465]\n",
      " [0.62426047 0.90949266 0.8691639  0.74539975 0.17640618]\n",
      " [0.61334512 0.05471177 0.66912828 0.4413259  0.7048205 ]\n",
      " [0.395787   0.11655591 0.57780467 0.05220471 0.95456451]]\n"
     ]
    }
   ],
   "source": [
    "uniform_random = np.random.rand( 4 , 5 )\n",
    "print (uniform_random)"
   ]
  },
  {
   "cell_type": "code",
   "execution_count": 68,
   "id": "e70469eb-b04d-4a9a-8be0-a758d7b81104",
   "metadata": {},
   "outputs": [
    {
     "name": "stdout",
     "output_type": "stream",
     "text": [
      "[[0.84388144 0.04628467 0.18101037 0.63298185 0.59888465]\n",
      " [0.62426047 0.90949266 0.8691639  0.74539975 0.17640618]\n",
      " [0.61334512 0.05471177 0.66912828 0.4413259  0.7048205 ]\n",
      " [0.395787   0.11655591 0.57780467 0.05220471 0.95456451]]\n"
     ]
    }
   ],
   "source": [
    "normal_random = np.random.randn( 4 , 5 )\n",
    "print (uniform_random)"
   ]
  },
  {
   "cell_type": "code",
   "execution_count": 69,
   "id": "0a424f56-dc7b-4341-9b9f-8eba6651b92d",
   "metadata": {},
   "outputs": [
    {
     "name": "stdout",
     "output_type": "stream",
     "text": [
      "[37 14 30 40 14]\n"
     ]
    }
   ],
   "source": [
    "integer_random = np.random.randint( 10 , 50 , 5 )\n",
    "print (integer_random)"
   ]
  },
  {
   "cell_type": "code",
   "execution_count": 70,
   "id": "ccde4dbb-ed10-4a4f-a399-f2f093078618",
   "metadata": {},
   "outputs": [
    {
     "name": "stdout",
     "output_type": "stream",
     "text": [
      "[[10  4  5  2  5]\n",
      " [ 1  2  2 10  3]\n",
      " [ 5  3  1  7  9]\n",
      " [ 8  7 10  3  9]]\n"
     ]
    }
   ],
   "source": [
    "integer_random = np.random.randint( 1 , 11 , size=( 4 , 5 ))\n",
    "print (integer_random)"
   ]
  },
  {
   "cell_type": "code",
   "execution_count": 71,
   "id": "c7f3eb4f-ef97-4c0d-abb5-f3d4fba924a4",
   "metadata": {},
   "outputs": [
    {
     "name": "stdout",
     "output_type": "stream",
     "text": [
      "10\n",
      "4\n",
      "5\n",
      "2\n",
      "5\n",
      "1\n",
      "2\n",
      "2\n",
      "10\n",
      "3\n",
      "5\n",
      "3\n",
      "1\n",
      "7\n",
      "9\n",
      "8\n",
      "7\n",
      "10\n",
      "3\n",
      "9\n"
     ]
    }
   ],
   "source": [
    "for rows in integer_random:\n",
    "    for column in rows:\n",
    "        print (column)"
   ]
  },
  {
   "cell_type": "code",
   "execution_count": 8,
   "id": "04370179-bd89-49fb-8f08-ebff58cd499d",
   "metadata": {},
   "outputs": [
    {
     "data": {
      "text/plain": [
       "array([[2.2, 1.7],\n",
       "       [5.1, 6.3],\n",
       "       [7.2, 1.2]])"
      ]
     },
     "execution_count": 8,
     "metadata": {},
     "output_type": "execute_result"
    }
   ],
   "source": [
    "#array 2 d\n",
    "arr = np.array([[2.2, 1.7], [5.1, 6.3], [7.2, 1.2]])\n",
    "arr"
   ]
  },
  {
   "cell_type": "code",
   "execution_count": 80,
   "id": "4769e39f-2b9b-4be4-9f54-61007553d2b5",
   "metadata": {},
   "outputs": [
    {
     "data": {
      "text/plain": [
       "array([[10.5750878 , 10.53063627, 11.10058817,  9.46842434, 12.79546601],\n",
       "       [11.26239063,  6.82169166,  9.95260995,  8.10228139, 10.34584486],\n",
       "       [ 8.93074628, 10.16639967,  7.63161062, 11.52522179,  7.72023306],\n",
       "       [ 9.68206509,  7.5911726 , 11.37668075, 15.13765078, 10.57492742],\n",
       "       [ 9.93644082,  9.09539289,  9.07454848, 12.42055487,  8.45429643]])"
      ]
     },
     "execution_count": 80,
     "metadata": {},
     "output_type": "execute_result"
    }
   ],
   "source": [
    "x = np.random.normal(loc = 10, scale = 2, size = (5, 5))\n",
    "x"
   ]
  },
  {
   "cell_type": "code",
   "execution_count": 81,
   "id": "f4198689-0145-43fa-ade4-6e62d27fb79d",
   "metadata": {},
   "outputs": [
    {
     "data": {
      "text/plain": [
       "10.010918505192665"
      ]
     },
     "execution_count": 81,
     "metadata": {},
     "output_type": "execute_result"
    }
   ],
   "source": [
    "x.mean()"
   ]
  },
  {
   "cell_type": "code",
   "execution_count": 82,
   "id": "252db1cd-f1a7-4b96-a4e1-6b5b1de94722",
   "metadata": {},
   "outputs": [
    {
     "data": {
      "text/plain": [
       "array([[11.51958482, 11.26850566,  7.63228042, 14.82604948,  8.37465392],\n",
       "       [ 9.68091942, 12.20953835,  9.96717751, 12.56319238, 10.05160634],\n",
       "       [ 9.54118906, 10.07694779,  9.72649485, 11.05344025,  8.03024018],\n",
       "       [12.43716576, 10.99338527,  9.53885208,  7.91908067, 14.01806622],\n",
       "       [ 7.75115594,  3.14793068, 10.06719683,  9.61418506,  8.96251892]])"
      ]
     },
     "execution_count": 82,
     "metadata": {},
     "output_type": "execute_result"
    }
   ],
   "source": [
    "y = np.random.normal(10, 2, (5, 5))\n",
    "y"
   ]
  },
  {
   "cell_type": "code",
   "execution_count": 83,
   "id": "cd6e9ae0-8f0f-443a-baae-8fd106c7dc8b",
   "metadata": {},
   "outputs": [
    {
     "data": {
      "text/plain": [
       "10.038854314822615"
      ]
     },
     "execution_count": 83,
     "metadata": {},
     "output_type": "execute_result"
    }
   ],
   "source": [
    "y.mean()"
   ]
  },
  {
   "cell_type": "code",
   "execution_count": 84,
   "id": "301f4daa-e0d0-412f-ad62-39f53c8a2680",
   "metadata": {},
   "outputs": [
    {
     "data": {
      "text/plain": [
       "array([ 76,  34, 169,  50, 182,  29,  82,  79,  85, 113, 108,  72,   0,\n",
       "       113, 134, 113, 168,  78, 169, 177, 170, 118,  99,  34,  36])"
      ]
     },
     "execution_count": 84,
     "metadata": {},
     "output_type": "execute_result"
    }
   ],
   "source": [
    "arr = np.random.randint(0, 200, 25)\n",
    "arr"
   ]
  },
  {
   "cell_type": "code",
   "execution_count": 85,
   "id": "75d8cc5d-98d7-4885-a9c1-6c2c512d73e8",
   "metadata": {},
   "outputs": [
    {
     "data": {
      "text/plain": [
       "array([[ 76,  34, 169,  50, 182],\n",
       "       [ 29,  82,  79,  85, 113],\n",
       "       [108,  72,   0, 113, 134],\n",
       "       [113, 168,  78, 169, 177],\n",
       "       [170, 118,  99,  34,  36]])"
      ]
     },
     "execution_count": 85,
     "metadata": {},
     "output_type": "execute_result"
    }
   ],
   "source": [
    "matrix = arr.reshape(5, 5)\n",
    "matrix"
   ]
  },
  {
   "cell_type": "code",
   "execution_count": 86,
   "id": "37014d80-b7b7-4faa-8cc0-605b0fd02794",
   "metadata": {},
   "outputs": [
    {
     "data": {
      "text/plain": [
       "array([170, 168, 169, 169, 182])"
      ]
     },
     "execution_count": 86,
     "metadata": {},
     "output_type": "execute_result"
    }
   ],
   "source": [
    "#les valeurs max par colonnnes\n",
    "matrix.max(axis=0) "
   ]
  },
  {
   "cell_type": "code",
   "execution_count": 87,
   "id": "79b6fe4b-3c8c-44c6-a7e2-8f057369d13e",
   "metadata": {},
   "outputs": [
    {
     "data": {
      "text/plain": [
       "array([182, 113, 134, 177, 170])"
      ]
     },
     "execution_count": 87,
     "metadata": {},
     "output_type": "execute_result"
    }
   ],
   "source": [
    "#les valeurs max par lignes\n",
    "matrix.max(axis=1)"
   ]
  },
  {
   "cell_type": "code",
   "execution_count": 88,
   "id": "e2066ea3-5f02-45ec-8209-c2e3385a752c",
   "metadata": {},
   "outputs": [
    {
     "data": {
      "text/plain": [
       "182"
      ]
     },
     "execution_count": 88,
     "metadata": {},
     "output_type": "execute_result"
    }
   ],
   "source": [
    "#valeur max pour tout matrix\n",
    "matrix.max()"
   ]
  },
  {
   "cell_type": "code",
   "execution_count": 90,
   "id": "92b0c101-9299-4ded-bee0-c863f1504f5f",
   "metadata": {},
   "outputs": [
    {
     "data": {
      "text/plain": [
       "array([4, 3, 0, 3, 0], dtype=int64)"
      ]
     },
     "execution_count": 90,
     "metadata": {},
     "output_type": "execute_result"
    }
   ],
   "source": [
    "#les valeurs max par lignes\n",
    "matrix.argmax(axis=0)"
   ]
  },
  {
   "cell_type": "code",
   "execution_count": 89,
   "id": "3a46ecfb-0ae8-4ae9-8b63-3170200cc215",
   "metadata": {},
   "outputs": [
    {
     "data": {
      "text/plain": [
       "array([4, 4, 4, 4, 0], dtype=int64)"
      ]
     },
     "execution_count": 89,
     "metadata": {},
     "output_type": "execute_result"
    }
   ],
   "source": [
    "#les valeurs max par lignes\n",
    "matrix.argmax(axis=1)"
   ]
  },
  {
   "cell_type": "code",
   "execution_count": 9,
   "id": "34e89d9d-a8c1-484b-b717-d2eab2ddc5e4",
   "metadata": {},
   "outputs": [
    {
     "name": "stdout",
     "output_type": "stream",
     "text": [
      "le dimension de tab =  2\n",
      "le Forma de tab =  (3, 2)\n",
      "nembre d'elements' tab =  6\n",
      "type d'elements' tab =  float64\n"
     ]
    }
   ],
   "source": [
    "print(\"le dimension de tab = \", arr.ndim)\n",
    "print(\"le Forma de tab = \", arr.shape)\n",
    "print(\"nembre d'elements' tab = \", arr.size)\n",
    "print(\"type d'elements' tab = \", arr.dtype)"
   ]
  },
  {
   "cell_type": "code",
   "execution_count": 29,
   "id": "f4d14e05-1def-4140-8303-b6d15eeb7aa1",
   "metadata": {},
   "outputs": [
    {
     "name": "stdout",
     "output_type": "stream",
     "text": [
      " somme = 15 \n",
      " moyenne = 3.0 \n",
      " l'écart type = 1.4142135623730951 \n",
      " min = 1 \n",
      " max  = 5 \n",
      " racine carre [1.         1.41421356 1.73205081 2.         2.23606798] \n",
      " valeur absolue = [1 2 3 4 5] \n",
      " array_power [ 1  4  9 16 25] \n",
      " exponentiel [  2.71828183   7.3890561   20.08553692  54.59815003 148.4131591 ] \n",
      " log = [0.         0.69314718 1.09861229 1.38629436 1.60943791] \n",
      " sin [ 0.84147098  0.90929743  0.14112001 -0.7568025  -0.95892427] \n",
      " cos [ 0.54030231 -0.41614684 -0.9899925  -0.65364362  0.28366219] \n",
      " median 3.0\n"
     ]
    }
   ],
   "source": [
    "#Fonction mathématiques basiques\n",
    "array1=np.array([1, 2, 3, 4, 5])\n",
    "array_sum = np.sum(array1)\n",
    "array_mean = np.mean(array1)\n",
    "array_std = np.std(array1)\n",
    "array_min = np.min(array1)\n",
    "array_max = np.max(array1)\n",
    "array_sqrt = np.sqrt(array1)\n",
    "array_abs = np.abs(array1)\n",
    "array_power = np.power(array1, 2)\n",
    "array_exp = np.exp(array1)\n",
    "array_log = np.log(np.abs(array1))\n",
    "array_sin = np.sin(array1)\n",
    "array_cos = np.cos(array1)\n",
    "array_median = np.median(array1)\n",
    "print(f\" somme = {array_sum} \\n moyenne = {array_mean} \\n l'écart type = {array_std} \\n min = {array_min} \\n max  = {array_max} \\n racine carre {array_sqrt} \\n valeur absolue = {array_abs} \\n array_power {array_power} \\n exponentiel {array_exp} \\n log = {array_log} \\n sin {array_sin} \\n cos {array_cos} \\n median {array_median}\") "
   ]
  },
  {
   "cell_type": "code",
   "execution_count": 16,
   "id": "9f00f609-25fd-482e-b820-69d09078a4e4",
   "metadata": {},
   "outputs": [
    {
     "name": "stdout",
     "output_type": "stream",
     "text": [
      "[[ 30  36  42]\n",
      " [ 66  81  96]\n",
      " [102 126 150]]\n"
     ]
    }
   ],
   "source": [
    "# Produit matriciel\n",
    "matrice = [[1, 2, 3], [4, 5, 6], [7, 8, 9]]\n",
    "produit_matriciel = np.dot(array_with_matrice, array_with_matrice)\n",
    "print(produit_matriciel)"
   ]
  },
  {
   "cell_type": "code",
   "execution_count": 17,
   "id": "6ac504d3-ce3b-4a44-996b-d0ef75a2cd6f",
   "metadata": {},
   "outputs": [
    {
     "name": "stdout",
     "output_type": "stream",
     "text": [
      "[[1 4 7]\n",
      " [2 5 8]\n",
      " [3 6 9]]\n"
     ]
    }
   ],
   "source": [
    "# Transposée\n",
    "transposee = np.transpose(array_with_matrice)\n",
    "print(transposee)"
   ]
  },
  {
   "cell_type": "code",
   "execution_count": 20,
   "id": "66d0003b-7c01-4e51-8027-54b0f279bb42",
   "metadata": {},
   "outputs": [
    {
     "name": "stdout",
     "output_type": "stream",
     "text": [
      "[[ 1.  0.  0.  0.  0.]\n",
      " [ 0.  1.  0.  0.  0.]\n",
      " [ 0.  0.  1.  0.  0.]\n",
      " [-0. -0. -0.  1. -0.]\n",
      " [ 0.  0.  0.  0.  1.]]\n"
     ]
    }
   ],
   "source": [
    "# Inversion (pour les matrices carrées non singulières)\n",
    "inverse = np.linalg.inv(array_eye)\n",
    "print(inverse)"
   ]
  },
  {
   "cell_type": "code",
   "execution_count": 21,
   "id": "bada7b36-ce44-4403-b91d-36b136447ea4",
   "metadata": {},
   "outputs": [
    {
     "name": "stdout",
     "output_type": "stream",
     "text": [
      "1.0\n"
     ]
    }
   ],
   "source": [
    "#Déterminant\n",
    "determinant=np.linalg.det(array_eye)\n",
    "print(determinant)"
   ]
  },
  {
   "cell_type": "code",
   "execution_count": 22,
   "id": "e8a67c38-46e7-4f5c-9db1-1085bdb86b6a",
   "metadata": {},
   "outputs": [
    {
     "name": "stdout",
     "output_type": "stream",
     "text": [
      "1\n"
     ]
    }
   ],
   "source": [
    "# Accès aux éléments\n",
    "array1 = np.array([1,2,3,4,5]) \n",
    "premier_element = array1[0]\n",
    "print(premier_element)"
   ]
  },
  {
   "cell_type": "code",
   "execution_count": 23,
   "id": "9e79da83-4e8a-4ddd-ace9-0f84c1fc99d9",
   "metadata": {},
   "outputs": [
    {
     "data": {
      "text/plain": [
       "5"
      ]
     },
     "execution_count": 23,
     "metadata": {},
     "output_type": "execute_result"
    }
   ],
   "source": [
    "array1[-1]"
   ]
  },
  {
   "cell_type": "code",
   "execution_count": 24,
   "id": "d397cadf-bed2-4bb4-bfe8-2d6337eae567",
   "metadata": {},
   "outputs": [
    {
     "data": {
      "text/plain": [
       "3"
      ]
     },
     "execution_count": 24,
     "metadata": {},
     "output_type": "execute_result"
    }
   ],
   "source": [
    "array1[2]"
   ]
  },
  {
   "cell_type": "code",
   "execution_count": 25,
   "id": "faf0fc32-6de5-44ea-8039-bf0d48451b18",
   "metadata": {},
   "outputs": [
    {
     "name": "stdout",
     "output_type": "stream",
     "text": [
      "[15  2  3  4  5]\n"
     ]
    }
   ],
   "source": [
    "# Modification d'un élément\n",
    "array1[0] = 15\n",
    "print(array1)"
   ]
  },
  {
   "cell_type": "code",
   "execution_count": 27,
   "id": "e51aa92c-deec-4343-97a0-36ac2f38ab96",
   "metadata": {},
   "outputs": [
    {
     "data": {
      "text/plain": [
       "array([15])"
      ]
     },
     "execution_count": 27,
     "metadata": {},
     "output_type": "execute_result"
    }
   ],
   "source": [
    "# Sélection des éléments qui respectent une condition\n",
    "condition = array1 > 5\n",
    "elements_respectant_condition = array1[array1 > 5]\n",
    "elements_respectant_condition"
   ]
  },
  {
   "cell_type": "code",
   "execution_count": 29,
   "id": "5656e1c2-3957-4cc5-8056-0c0237e8f57e",
   "metadata": {},
   "outputs": [
    {
     "name": "stdout",
     "output_type": "stream",
     "text": [
      "[ True False False  True  True]\n",
      "(array([0, 3, 4], dtype=int64),)\n"
     ]
    }
   ],
   "source": [
    "condition = array1 > 3\n",
    "print(condition)\n",
    "indices = np.where(array1 > 3)\n",
    "print(indices)"
   ]
  },
  {
   "cell_type": "code",
   "execution_count": 30,
   "id": "8115af44-6fb7-4086-803b-03a6a35ae757",
   "metadata": {},
   "outputs": [
    {
     "data": {
      "text/plain": [
       "array([ True, False, False, False, False])"
      ]
     },
     "execution_count": 30,
     "metadata": {},
     "output_type": "execute_result"
    }
   ],
   "source": [
    "array1 > 5"
   ]
  },
  {
   "cell_type": "code",
   "execution_count": 36,
   "id": "d372f78f-54df-4f53-99f0-c4cb1108f7eb",
   "metadata": {},
   "outputs": [
    {
     "name": "stdout",
     "output_type": "stream",
     "text": [
      "(array([2, 3, 4], dtype=int64),)\n",
      "[3 4 5]\n"
     ]
    }
   ],
   "source": [
    "# Utilisation de np.where\n",
    "indices = np.where(array1 > 2)\n",
    "print(indices)\n",
    "elements_respectant_condition_np_where = array1[indices]\n",
    "print(elements_respectant_condition_np_where)"
   ]
  },
  {
   "cell_type": "code",
   "execution_count": 34,
   "id": "cd04ffd5-3431-4ef1-90a2-4dc40c054f60",
   "metadata": {},
   "outputs": [
    {
     "data": {
      "text/plain": [
       "[(array([0], dtype=int64),)]"
      ]
     },
     "execution_count": 34,
     "metadata": {},
     "output_type": "execute_result"
    }
   ],
   "source": [
    "elements_respectant_condition_np_where = [np.where(array1 >5)]\n",
    "elements_respectant_condition_np_where"
   ]
  },
  {
   "cell_type": "code",
   "execution_count": 38,
   "id": "b8bf82bf-f1b4-46e6-aaaf-9287b38c28c2",
   "metadata": {},
   "outputs": [
    {
     "name": "stdout",
     "output_type": "stream",
     "text": [
      "[0 2 3 0 0]\n"
     ]
    }
   ],
   "source": [
    "# Mise à jour d'un numpy array\n",
    "array1[condition] = 0\n",
    "print(array1)"
   ]
  },
  {
   "cell_type": "code",
   "execution_count": 39,
   "id": "97796aca-e5fa-46c0-85f0-5a8e68a1d8de",
   "metadata": {},
   "outputs": [
    {
     "data": {
      "text/plain": [
       "array([1, 2, 3])"
      ]
     },
     "execution_count": 39,
     "metadata": {},
     "output_type": "execute_result"
    }
   ],
   "source": [
    "#  Slicing et indexation avancée\n",
    "array6 = np.array([[1, 2, 3], [4, 5, 6], [7, 8, 9]])\n",
    "# Slicing\n",
    "premiere_ligne = array6[0, :]\n",
    "premiere_ligne"
   ]
  },
  {
   "cell_type": "code",
   "execution_count": 45,
   "id": "c0783869-01ae-4882-8653-4ad62a0b7ae4",
   "metadata": {},
   "outputs": [
    {
     "data": {
      "text/plain": [
       "array([1, 4, 7])"
      ]
     },
     "execution_count": 45,
     "metadata": {},
     "output_type": "execute_result"
    }
   ],
   "source": [
    "#  Slicing et indexation avancée\n",
    "array6 = np.array([[1, 2, 3], [4, 5, 6], [7, 8, 9]])\n",
    "# Slicing\n",
    "premiere_ligne = array6[ : , 0]\n",
    "premiere_ligne"
   ]
  },
  {
   "cell_type": "code",
   "execution_count": 53,
   "id": "07c9f3ef-f2cb-4b1c-8cc8-8e5e75a0f037",
   "metadata": {},
   "outputs": [
    {
     "data": {
      "text/plain": [
       "array([[5, 6],\n",
       "       [8, 9]])"
      ]
     },
     "execution_count": 53,
     "metadata": {},
     "output_type": "execute_result"
    }
   ],
   "source": [
    "#sous matrice\n",
    "array6 = np.array([[1, 2, 3], [4, 5, 6], [7, 8, 9]])\n",
    "sous_matrice = array6[1:3, 1:3]\n",
    "sous_matrice"
   ]
  },
  {
   "cell_type": "code",
   "execution_count": 64,
   "id": "74442d1a-2a0e-42cd-9326-b31e3fbf27c6",
   "metadata": {},
   "outputs": [
    {
     "data": {
      "text/plain": [
       "array([[1, 2, 3],\n",
       "       [4, 5, 6],\n",
       "       [7, 8, 9]])"
      ]
     },
     "execution_count": 64,
     "metadata": {},
     "output_type": "execute_result"
    }
   ],
   "source": [
    "array6"
   ]
  },
  {
   "cell_type": "code",
   "execution_count": 69,
   "id": "12e2f659-ebfa-4465-9bff-b60e5df412c3",
   "metadata": {},
   "outputs": [
    {
     "data": {
      "text/plain": [
       "array([4, 8])"
      ]
     },
     "execution_count": 69,
     "metadata": {},
     "output_type": "execute_result"
    }
   ],
   "source": [
    "# Indexation avancée\n",
    "lignes = [1, 2]\n",
    "colonnes = [0, 1]\n",
    "elements_selectionnes = array6[lignes, colonnes]\n",
    "elements_selectionnes"
   ]
  },
  {
   "cell_type": "code",
   "execution_count": 52,
   "id": "9f8e4d4f-398c-449c-ac43-ec009ea3dfbb",
   "metadata": {},
   "outputs": [
    {
     "data": {
      "text/plain": [
       "array([5, 7, 9])"
      ]
     },
     "execution_count": 52,
     "metadata": {},
     "output_type": "execute_result"
    }
   ],
   "source": [
    "# Opérations élémentaires et diffusion (broadcasting)\n",
    "array7 = np.array([1, 2, 3])\n",
    "array8 = np.array([4, 5, 6])\n",
    "\n",
    "\n",
    "# Addition élémentaire\n",
    "array_addition = array7 + array8\n",
    "array_addition"
   ]
  },
  {
   "cell_type": "code",
   "execution_count": 54,
   "id": "5074f73f-93ee-498e-b17d-ca47cf49c1ca",
   "metadata": {},
   "outputs": [
    {
     "data": {
      "text/plain": [
       "array([ 4, 10, 18])"
      ]
     },
     "execution_count": 54,
     "metadata": {},
     "output_type": "execute_result"
    }
   ],
   "source": [
    "# Multiplication élémentaire\n",
    "array_multiplication = array7 * array8\n",
    "array_multiplication"
   ]
  },
  {
   "cell_type": "code",
   "execution_count": 55,
   "id": "1d3f6b0f-48d6-4ce8-accd-1e679ed6761c",
   "metadata": {},
   "outputs": [
    {
     "data": {
      "text/plain": [
       "array([[ 2,  4,  6],\n",
       "       [ 5,  7,  9],\n",
       "       [ 8, 10, 12]])"
      ]
     },
     "execution_count": 55,
     "metadata": {},
     "output_type": "execute_result"
    }
   ],
   "source": [
    "# Diffusion (broadcasting)\n",
    "array9 = np.array([[1, 2, 3], [4, 5, 6], [7, 8, 9]])\n",
    "array10 = np.array([1, 2, 3])\n",
    "array9+array10"
   ]
  },
  {
   "cell_type": "code",
   "execution_count": 56,
   "id": "4a131ee3-d61e-4520-ab6c-e056f3d1d4ff",
   "metadata": {},
   "outputs": [
    {
     "name": "stdout",
     "output_type": "stream",
     "text": [
      "[[0 1 2]\n",
      " [3 4 5]\n",
      " [6 7 8]]\n"
     ]
    }
   ],
   "source": [
    "#r redimensionné le numpy array\n",
    "array3 = np.arange(9)\n",
    "array3_redimensionne = array3.reshape((3, 3))\n",
    "print(array3_redimensionne)"
   ]
  },
  {
   "cell_type": "code",
   "execution_count": 58,
   "id": "0b98dc75-29e9-442e-8f6a-743e5d6d56d1",
   "metadata": {},
   "outputs": [
    {
     "data": {
      "text/plain": [
       "array([0, 1, 2, 3, 4, 5, 6, 7, 8])"
      ]
     },
     "execution_count": 58,
     "metadata": {},
     "output_type": "execute_result"
    }
   ],
   "source": [
    "array3 = np.arange(9)\n",
    "array3"
   ]
  },
  {
   "cell_type": "code",
   "execution_count": 59,
   "id": "50c30528-9941-4d74-9568-57a99b27c32e",
   "metadata": {},
   "outputs": [
    {
     "name": "stdout",
     "output_type": "stream",
     "text": [
      "[0 2 3 0 0 6 7 8]\n"
     ]
    }
   ],
   "source": [
    "#Ajouter des éléments dans un numpy array\n",
    "array1_allonge = np.append(array1, [6, 7, 8])\n",
    "print(array1_allonge)"
   ]
  },
  {
   "cell_type": "code",
   "execution_count": 60,
   "id": "f21e0e74-c1b4-4afe-a096-fbaa6bb5f20f",
   "metadata": {},
   "outputs": [
    {
     "data": {
      "text/plain": [
       "(3, 3)"
      ]
     },
     "execution_count": 60,
     "metadata": {},
     "output_type": "execute_result"
    }
   ],
   "source": [
    "#Connaitre les caractéristiques d'un numpy array\n",
    "array_with_matrice.shape#dimension de l'array "
   ]
  },
  {
   "cell_type": "code",
   "execution_count": 61,
   "id": "42c0d824-b209-4ac4-b44d-8bcc6e8639b5",
   "metadata": {},
   "outputs": [
    {
     "data": {
      "text/plain": [
       "numpy.ndarray"
      ]
     },
     "execution_count": 61,
     "metadata": {},
     "output_type": "execute_result"
    }
   ],
   "source": [
    "#Connaitre le type de l'objet\n",
    "type(array_with_matrice)#type de l'objet"
   ]
  },
  {
   "cell_type": "code",
   "execution_count": 62,
   "id": "76dcf01d-bd09-425d-ab66-ba9afc606172",
   "metadata": {},
   "outputs": [
    {
     "data": {
      "text/plain": [
       "dtype('int32')"
      ]
     },
     "execution_count": 62,
     "metadata": {},
     "output_type": "execute_result"
    }
   ],
   "source": [
    "#Connaitre le type des él\n",
    "array1.dtype#type des objet"
   ]
  },
  {
   "cell_type": "code",
   "execution_count": 63,
   "id": "894818e7-7015-4695-a9e1-d2a1184798bb",
   "metadata": {},
   "outputs": [
    {
     "data": {
      "text/plain": [
       "dtype('<U1')"
      ]
     },
     "execution_count": 63,
     "metadata": {},
     "output_type": "execute_result"
    }
   ],
   "source": [
    "array7 = np.array(['1', '2', '3'])\n",
    "array7.dtype"
   ]
  },
  {
   "cell_type": "code",
   "execution_count": 33,
   "id": "d888b868-6e23-4d60-a378-01a21c3977f7",
   "metadata": {},
   "outputs": [
    {
     "data": {
      "text/plain": [
       "array([ 0.        ,  0.20408163,  0.40816327,  0.6122449 ,  0.81632653,\n",
       "        1.02040816,  1.2244898 ,  1.42857143,  1.63265306,  1.83673469,\n",
       "        2.04081633,  2.24489796,  2.44897959,  2.65306122,  2.85714286,\n",
       "        3.06122449,  3.26530612,  3.46938776,  3.67346939,  3.87755102,\n",
       "        4.08163265,  4.28571429,  4.48979592,  4.69387755,  4.89795918,\n",
       "        5.10204082,  5.30612245,  5.51020408,  5.71428571,  5.91836735,\n",
       "        6.12244898,  6.32653061,  6.53061224,  6.73469388,  6.93877551,\n",
       "        7.14285714,  7.34693878,  7.55102041,  7.75510204,  7.95918367,\n",
       "        8.16326531,  8.36734694,  8.57142857,  8.7755102 ,  8.97959184,\n",
       "        9.18367347,  9.3877551 ,  9.59183673,  9.79591837, 10.        ])"
      ]
     },
     "execution_count": 33,
     "metadata": {},
     "output_type": "execute_result"
    }
   ],
   "source": [
    "#Lorsqu'on veut créer un intervalle avec un nombre précis de nombres à l'intérieur, il est plus facile d'utiliser la fonction linspace.\n",
    "x = np.linspace(0., 10., 50) #remplire un matrice de 50 elements avec des floates between 0 et 10\n",
    "x"
   ]
  },
  {
   "cell_type": "code",
   "execution_count": 35,
   "id": "445ca24c-9458-4be6-a5d9-48862064ca35",
   "metadata": {},
   "outputs": [
    {
     "name": "stdout",
     "output_type": "stream",
     "text": [
      "le dimension de tab =  1\n",
      "le Forma de tab =  (50,)\n",
      "nembre d'elements' tab =  50\n",
      "type d'elements' tab =  float64\n"
     ]
    }
   ],
   "source": [
    "print(\"le dimension de tab = \", x.ndim)\n",
    "print(\"le Forma de tab = \", x.shape)\n",
    "print(\"nembre d'elements' tab = \", x.size)\n",
    "print(\"type d'elements' tab = \", x.dtype)"
   ]
  },
  {
   "cell_type": "code",
   "execution_count": 37,
   "id": "6765ed99-a116-443e-a55e-3a412268a3d3",
   "metadata": {},
   "outputs": [
    {
     "name": "stdout",
     "output_type": "stream",
     "text": [
      "[[  1.83   1.85   1.64   1.9    1.72   1.89   1.59   1.68]\n",
      " [ 69.    75.    79.   120.    55.    89.    66.    80.  ]]\n",
      "le dimension de tab =  2\n",
      "le Forma de tab =  (2, 8)\n",
      "nembre d'elements' tab =  16\n",
      "type d'elements' tab =  float64\n"
     ]
    }
   ],
   "source": [
    "# Liste des tailles en m\n",
    "tailles = [1.83, 1.85, 1.64, 1.90, 1.72, 1.89, 1.59, 1.68]\n",
    "# Liste des poids en Kg\n",
    "poids = [69, 75, 79, 120, 55, 89, 66, 80]\n",
    "# family_data\n",
    "family_data = np.array([tailles, poids])\n",
    "print(family_data)\n",
    "print(\"le dimension de tab = \", family_data.ndim)\n",
    "print(\"le Forma de tab = \", family_data.shape)\n",
    "print(\"nembre d'elements' tab = \", family_data.size)\n",
    "print(\"type d'elements' tab = \", family_data.dtype)"
   ]
  },
  {
   "cell_type": "code",
   "execution_count": 38,
   "id": "06b89df8-9a5e-4507-8181-7da54c297763",
   "metadata": {},
   "outputs": [
    {
     "name": "stdout",
     "output_type": "stream",
     "text": [
      "Taille moyenne  1.7625000000000002\n",
      "Taille médiane  1.775\n",
      "Ecart-type de la taille  0.1122218784373172\n",
      "Poids moyen  79.125\n",
      "Poids median  77.0\n",
      "Ecart-type du poids  18.17579090438708\n"
     ]
    }
   ],
   "source": [
    "# Taille moyenne\n",
    "taille_moy = np.mean(family_data[0])\n",
    "print(\"Taille moyenne \", taille_moy)\n",
    "# Taille médiane\n",
    "taille_med = np.median(family_data[0])\n",
    "print(\"Taille médiane \", taille_med)\n",
    "# Ecart-type de la taille\n",
    "taille_std = np.std(family_data[0])\n",
    "print(\"Ecart-type de la taille \", taille_std)\n",
    "# Poids moyen\n",
    "poids_moy = np.mean(family_data[1])\n",
    "print(\"Poids moyen \", poids_moy)\n",
    "# Poids median\n",
    "poids_med = np.median(family_data[1])\n",
    "print(\"Poids median \", poids_med)\n",
    "# Ecart-type du poids\n",
    "poids_std = np.std(family_data[1])\n",
    "print(\"Ecart-type du poids \", poids_std)"
   ]
  },
  {
   "cell_type": "markdown",
   "id": "ce2f7418-1b33-4d4c-8e1c-1f05ad7ba9e3",
   "metadata": {},
   "source": [
    "Imaginez que vous meniez une enquête à l'échelle de votre ville où vous interrogez 100000 personnes sur leur taille et leur poids. Vous vous retrouverez avec un tableau numpy en 2D comme celui de family_data mais cette fois-ci avec 100000 colonnes et 2 lignes (taille et poids). Qu'en serait-il à l'échelle d'un département ? d'une région ? d'un pays ou d'un continent ? Vous pouvez vous retrouver très facilement avec des millions voir des milliards chiffres. Que faire ?\r\n",
    "\r\n",
    "A présent, afin de voir vraiment la puissance et la rapidité de calcul de Numpy, nous allons générer de manière aléatoire des données de poids et de taille pour 10000 personnes puis effectuer des calculs statistiques sur cet échantillon."
   ]
  },
  {
   "cell_type": "code",
   "execution_count": 44,
   "id": "eccb9431-cd47-4ce2-b60b-93f37461f356",
   "metadata": {},
   "outputs": [
    {
     "name": "stdout",
     "output_type": "stream",
     "text": [
      "[1.71 1.66 1.83 ... 1.76 1.84 1.79]\n",
      "[103.9   99.51  46.96 ...  56.67  87.65 115.24]\n"
     ]
    }
   ],
   "source": [
    "# Générer des données\n",
    "tailles_city = np.round(np.random.normal(1.76, 0.11, 100000), 2)\n",
    "poids_city = np.round(np.random.normal(79.13, 18.18, 100000), 2)\n",
    "\n",
    "print(tailles_city)\n",
    "print(poids_city)"
   ]
  },
  {
   "cell_type": "code",
   "execution_count": 54,
   "id": "fc69eb05-1434-47d0-8215-4c49ba0edbfd",
   "metadata": {},
   "outputs": [
    {
     "name": "stdout",
     "output_type": "stream",
     "text": [
      "[[14]\n",
      " [13]\n",
      " [ 6]\n",
      " ...\n",
      " [10]\n",
      " [12]\n",
      " [11]]\n",
      "[[ 8]\n",
      " [ 2]\n",
      " [15]\n",
      " ...\n",
      " [12]\n",
      " [ 4]\n",
      " [19]]\n"
     ]
    }
   ],
   "source": [
    "# Générer des données\n",
    "tailles_city = np.random.randint(1, 20, (100000, 1))\n",
    "poids_city = np.random.randint(1, 20, (100000, 1))\n",
    "\n",
    "print(tailles_city)\n",
    "print(poids_city)"
   ]
  },
  {
   "cell_type": "code",
   "execution_count": 61,
   "id": "14805f83-7255-4ad7-b427-2b4554d3a4da",
   "metadata": {},
   "outputs": [
    {
     "name": "stdout",
     "output_type": "stream",
     "text": [
      "[[ 113.23798091 -104.08506989  107.04258505]\n",
      " [ -12.56542281   66.25549073   31.7400199 ]]\n",
      "[[100.12204322  96.31338523 102.37871596]\n",
      " [103.72819812 102.24078245 101.3806129 ]]\n"
     ]
    }
   ],
   "source": [
    "# Générer des données\n",
    "tailles_city = np.random.normal(loc=1, scale=100, size=(2, 3))\n",
    "poids_city = np.random.normal(loc=100, scale=2, size=(2, 3))\n",
    "\n",
    "print(tailles_city)\n",
    "print(poids_city)"
   ]
  },
  {
   "cell_type": "code",
   "execution_count": 62,
   "id": "ae13c727-6635-4393-a5fd-ed306165a6cb",
   "metadata": {},
   "outputs": [
    {
     "data": {
      "text/plain": [
       "array([[ 113.23798091, -104.08506989,  107.04258505,  100.12204322,\n",
       "          96.31338523,  102.37871596],\n",
       "       [ -12.56542281,   66.25549073,   31.7400199 ,  103.72819812,\n",
       "         102.24078245,  101.3806129 ]])"
      ]
     },
     "execution_count": 62,
     "metadata": {},
     "output_type": "execute_result"
    }
   ],
   "source": [
    "# Mettre les tailles sur la première ligne et les poids en deuxième ligne\n",
    "    # np.array(tailles_city, poids_city)\n",
    "    \n",
    "# Coller par colonnes \n",
    "    #(tailles_city en première colonne et poids_city en deuxième colonne)\n",
    "    \n",
    "data_city = np.column_stack((tailles_city, poids_city))\n",
    "data_city"
   ]
  },
  {
   "cell_type": "code",
   "execution_count": 63,
   "id": "0b004df2-0ed4-4341-ae01-33ad89bdfc72",
   "metadata": {},
   "outputs": [
    {
     "name": "stdout",
     "output_type": "stream",
     "text": [
      "[[1 1 1 1 1 1 1 1]\n",
      " [1 0 0 0 0 0 0 1]\n",
      " [1 0 0 0 0 0 0 1]\n",
      " [1 0 0 0 0 0 0 1]\n",
      " [1 0 0 0 0 0 0 1]\n",
      " [1 0 0 0 0 0 0 1]\n",
      " [1 0 0 0 0 0 0 1]\n",
      " [1 1 1 1 1 1 1 1]]\n"
     ]
    }
   ],
   "source": [
    "tab4 = np.ones((8, 8), dtype = int)\n",
    "tab4[1:-1, 1:-1] = 0\n",
    "print(tab4)"
   ]
  },
  {
   "cell_type": "code",
   "execution_count": 3,
   "id": "9effb168-f88c-4040-a322-620c44cf15ee",
   "metadata": {},
   "outputs": [
    {
     "data": {
      "text/plain": [
       "array([[16.3,  0. , 23. , 36. ],\n",
       "       [15.1,  0.2, 26. , 28. ],\n",
       "       [15.6,  0. , 22. , 50. ],\n",
       "       [14.9,  0.1, 32. , 59. ],\n",
       "       [14.3,  0. , 58. , 58. ],\n",
       "       [11.5, 15. , 70. , 60. ],\n",
       "       [10.8,  8.7, 85. , 62. ]])"
      ]
     },
     "execution_count": 3,
     "metadata": {},
     "output_type": "execute_result"
    }
   ],
   "source": [
    "#importer fichier text numpy\n",
    "data_array = np.loadtxt(\"meteo.txt\")\n",
    "data_array"
   ]
  },
  {
   "cell_type": "code",
   "execution_count": 4,
   "id": "6db2d1f6-76a9-46d9-85eb-c0d6ea1b512d",
   "metadata": {},
   "outputs": [
    {
     "data": {
      "text/plain": [
       "numpy.ndarray"
      ]
     },
     "execution_count": 4,
     "metadata": {},
     "output_type": "execute_result"
    }
   ],
   "source": [
    "type(data_array)"
   ]
  }
 ],
 "metadata": {
  "kernelspec": {
   "display_name": "Python 3 (ipykernel)",
   "language": "python",
   "name": "python3"
  },
  "language_info": {
   "codemirror_mode": {
    "name": "ipython",
    "version": 3
   },
   "file_extension": ".py",
   "mimetype": "text/x-python",
   "name": "python",
   "nbconvert_exporter": "python",
   "pygments_lexer": "ipython3",
   "version": "3.11.7"
  }
 },
 "nbformat": 4,
 "nbformat_minor": 5
}
